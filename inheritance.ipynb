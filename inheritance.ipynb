{
 "cells": [
  {
   "cell_type": "markdown",
   "metadata": {},
   "source": [
    "1) Create a multi-level inheritance , override default constructors in the child classes , instantiate the child class and show how will u invoke parent class constructor from child class ?"
   ]
  },
  {
   "cell_type": "code",
   "execution_count": 2,
   "metadata": {},
   "outputs": [
    {
     "name": "stdout",
     "output_type": "stream",
     "text": [
      "in init of Sub11\n",
      "in init of Sub1\n"
     ]
    }
   ],
   "source": [
    "class Base :\n",
    "    def __init__(self):\n",
    "        print(\"in init of Base\")\n",
    "\n",
    "class Sub1(Base):\n",
    "    def __init__(self):\n",
    "        print(\"in init of Sub1\")\n",
    "\n",
    "class Sub11(Sub1):\n",
    "    def __init__(self):\n",
    "        print(\"in init of Sub11\") \n",
    "        super().__init__()\n",
    "\n",
    "s11 = Sub11()"
   ]
  },
  {
   "cell_type": "markdown",
   "metadata": {},
   "source": [
    "2) create a class \"Vehicle\", define a method \"public void start()\" in it. From this class derive a class FourWheeler. How will u override \"start()\" method of parent class ?"
   ]
  },
  {
   "cell_type": "code",
   "execution_count": 5,
   "metadata": {},
   "outputs": [
    {
     "name": "stdout",
     "output_type": "stream",
     "text": [
      "In start FOurwheeler\n"
     ]
    }
   ],
   "source": [
    "class Vehicle:\n",
    "    def start(self):\n",
    "        print(\"In start Vehicle\")\n",
    "\n",
    "class FourWheeler(Vehicle):\n",
    "    def start(self):\n",
    "        print(\"In start FOurwheeler\")\n",
    "\n",
    "fw = FourWheeler()\n",
    "fw.start()"
   ]
  },
  {
   "cell_type": "markdown",
   "metadata": {},
   "source": [
    "3) Go for Hierarchical inheritance, create instances of child class and observe constructor invocation."
   ]
  },
  {
   "cell_type": "code",
   "execution_count": 6,
   "metadata": {},
   "outputs": [
    {
     "name": "stdout",
     "output_type": "stream",
     "text": [
      "in init of Sub3\n",
      "Base Disp\n",
      "Sub3 Disp\n"
     ]
    }
   ],
   "source": [
    "class Base :\n",
    "    def __init__(self):\n",
    "        print(\"in init of Base\")\n",
    "        \n",
    "    def disp1(self):\n",
    "        print(\"Base Disp\")    \n",
    "\n",
    "class Sub1(Base):\n",
    "    def __init__(self):\n",
    "        print(\"in init of Sub1\")\n",
    "    def disp2(self):\n",
    "        print(\"Sub1 Disp\")   \n",
    "\n",
    "class Sub2(Base):\n",
    "    def __init__(self):\n",
    "        print(\"in init of Sub2\")\n",
    "    def disp3(self):\n",
    "        print(\"Sub2 Disp\")   \n",
    "\n",
    "class Sub3(Base):\n",
    "    def __init__(self):\n",
    "        print(\"in init of Sub3\")\n",
    "        # super().disp1()\n",
    "    def disp4(self):\n",
    "        print(\"Sub3 Disp\")  \n",
    "\n",
    "s3 = Sub3()\n",
    "s3.disp1()\n",
    "s3.disp4()\n",
    "\n",
    "\n"
   ]
  },
  {
   "cell_type": "markdown",
   "metadata": {},
   "source": [
    "4) Create a class \"Top1\" with \"disp1()\" method. From this class Derive \"Bottom1\", \"Bottom2\" and \"Bottom3\" classes ,override the \"disp1()\". create a function \"perform\" which can take argument as object of any child class. Now show how will u achieve dynamic polymorphism.\n"
   ]
  },
  {
   "cell_type": "code",
   "execution_count": 7,
   "metadata": {},
   "outputs": [
    {
     "name": "stdout",
     "output_type": "stream",
     "text": [
      "Disp of Bottom1\n",
      "Disp of Bottom2\n",
      "Disp of Bottom3\n"
     ]
    }
   ],
   "source": [
    "class Top1 :\n",
    "    def disp1(self):\n",
    "        print(\"Disp of Top1\")\n",
    "\n",
    "class Bottom1(Top1):\n",
    "    def disp1(self):\n",
    "        print(\"Disp of Bottom1\")\n",
    "\n",
    "class Bottom2(Top1):\n",
    "    def disp1(self):\n",
    "        print(\"Disp of Bottom2\")\n",
    "    \n",
    "class Bottom3(Top1):\n",
    "    def disp1(self):\n",
    "        print(\"Disp of Bottom3\") \n",
    "\n",
    "def Perform(ref):\n",
    "    if(isinstance(ref,Top1)):\n",
    "        ref.disp1()\n",
    "\n",
    "Perform(Bottom1())\n",
    "Perform(Bottom2())\n",
    "Perform(Bottom3())"
   ]
  },
  {
   "cell_type": "markdown",
   "metadata": {},
   "source": [
    "5) create Base class and Sub class with parameterized constructors. Show how will you invoke Base class parameterized constructor from Sub class."
   ]
  },
  {
   "cell_type": "code",
   "execution_count": 8,
   "metadata": {},
   "outputs": [
    {
     "name": "stdout",
     "output_type": "stream",
     "text": [
      "50 100\n",
      "10\n"
     ]
    }
   ],
   "source": [
    "class Base:\n",
    "    def __init__(self,num):\n",
    "        self.num = num\n",
    "        print(self.num)\n",
    "       \n",
    "class Sub(Base):\n",
    "    def __init__(self,num1,num2):\n",
    "        self.num1 = num1\n",
    "        self.num2 = num2\n",
    "        print(self.num1,self.num2)\n",
    "        super().__init__(10)\n",
    "\n",
    "s1 = Sub(50,100)"
   ]
  },
  {
   "cell_type": "code",
   "execution_count": 15,
   "metadata": {},
   "outputs": [
    {
     "name": "stdout",
     "output_type": "stream",
     "text": [
      "{'name': 'sarthak', 'age': 20, 'name2': 'sam', 'age2': 23}\n"
     ]
    }
   ],
   "source": [
    "# class dog:\n",
    "#     def __init__(self):\n",
    "        \n",
    "\n",
    "dict1 = {\"name\" :\"sarthak\",\"age\" : 20}\n",
    "dict2 = {\"name2\" :\"sam\", \"age2\":23}\n",
    "\n",
    "dict1.update(dict2)\n",
    "print(dict1)"
   ]
  }
 ],
 "metadata": {
  "kernelspec": {
   "display_name": "Python 3",
   "language": "python",
   "name": "python3"
  },
  "language_info": {
   "codemirror_mode": {
    "name": "ipython",
    "version": 3
   },
   "file_extension": ".py",
   "mimetype": "text/x-python",
   "name": "python",
   "nbconvert_exporter": "python",
   "pygments_lexer": "ipython3",
   "version": "3.10.7"
  }
 },
 "nbformat": 4,
 "nbformat_minor": 2
}
